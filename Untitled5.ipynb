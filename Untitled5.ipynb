{
 "cells": [
  {
   "cell_type": "code",
   "execution_count": 1,
   "metadata": {},
   "outputs": [
    {
     "name": "stdout",
     "output_type": "stream",
     "text": [
      "请输入邮件地址：\n",
      "输入123\n",
      "邮件地址 123 @163.com\n",
      "请输入密码：\n",
      "输入456\n",
      "请再次输入密码:\n",
      "输入456\n",
      "密码设置成功\n",
      "请输入验证码： 8035\n",
      "输入8035\n",
      "验证通过\n"
     ]
    },
    {
     "ename": "AttributeError",
     "evalue": "'email' object has no attribute 'dx'",
     "output_type": "error",
     "traceback": [
      "\u001b[1;31m---------------------------------------------------------------------------\u001b[0m",
      "\u001b[1;31mAttributeError\u001b[0m                            Traceback (most recent call last)",
      "\u001b[1;32m<ipython-input-1-fe5f1cd41b02>\u001b[0m in \u001b[0;36m<module>\u001b[1;34m\u001b[0m\n\u001b[0;32m     33\u001b[0m \u001b[0mfxm\u001b[0m\u001b[1;33m.\u001b[0m\u001b[0mzc\u001b[0m\u001b[1;33m(\u001b[0m\u001b[1;33m)\u001b[0m\u001b[1;33m\u001b[0m\u001b[1;33m\u001b[0m\u001b[0m\n\u001b[0;32m     34\u001b[0m \u001b[0mfxm\u001b[0m\u001b[1;33m.\u001b[0m\u001b[0mpassword\u001b[0m\u001b[1;33m(\u001b[0m\u001b[1;33m)\u001b[0m\u001b[1;33m\u001b[0m\u001b[1;33m\u001b[0m\u001b[0m\n\u001b[1;32m---> 35\u001b[1;33m \u001b[0mfxm\u001b[0m\u001b[1;33m.\u001b[0m\u001b[0myzm\u001b[0m\u001b[1;33m(\u001b[0m\u001b[1;33m)\u001b[0m\u001b[1;33m\u001b[0m\u001b[1;33m\u001b[0m\u001b[0m\n\u001b[0m",
      "\u001b[1;32m<ipython-input-1-fe5f1cd41b02>\u001b[0m in \u001b[0;36myzm\u001b[1;34m(self)\u001b[0m\n\u001b[0;32m     26\u001b[0m             \u001b[1;32mif\u001b[0m \u001b[0myzm_1\u001b[0m\u001b[1;33m==\u001b[0m\u001b[0myzm_2\u001b[0m\u001b[1;33m:\u001b[0m\u001b[1;33m\u001b[0m\u001b[1;33m\u001b[0m\u001b[0m\n\u001b[0;32m     27\u001b[0m                 \u001b[0mprint\u001b[0m\u001b[1;33m(\u001b[0m\u001b[1;34m\"验证通过\"\u001b[0m\u001b[1;33m)\u001b[0m\u001b[1;33m\u001b[0m\u001b[1;33m\u001b[0m\u001b[0m\n\u001b[1;32m---> 28\u001b[1;33m                 \u001b[0mself\u001b[0m\u001b[1;33m.\u001b[0m\u001b[0mdx\u001b[0m\u001b[1;33m(\u001b[0m\u001b[1;33m)\u001b[0m\u001b[1;33m\u001b[0m\u001b[1;33m\u001b[0m\u001b[0m\n\u001b[0m\u001b[0;32m     29\u001b[0m                 \u001b[1;32mbreak\u001b[0m\u001b[1;33m\u001b[0m\u001b[1;33m\u001b[0m\u001b[0m\n\u001b[0;32m     30\u001b[0m             \u001b[1;32melse\u001b[0m\u001b[1;33m:\u001b[0m\u001b[1;33m\u001b[0m\u001b[1;33m\u001b[0m\u001b[0m\n",
      "\u001b[1;31mAttributeError\u001b[0m: 'email' object has no attribute 'dx'"
     ]
    }
   ],
   "source": [
    "import random\n",
    "class email(object):\n",
    "    def __init__(self):\n",
    "        pass\n",
    "    def zc(self):\n",
    "        print(\"请输入邮件地址：\")\n",
    "        res = input('输入')\n",
    "        print(\"邮件地址\",res,\"@163.com\")\n",
    "    def password(self):\n",
    "        print(\"请输入密码：\")\n",
    "        self.mima = input('输入')\n",
    "        print(\"请再次输入密码:\")\n",
    "        self.qr = input('输入')\n",
    "        if self.mima == self.qr:\n",
    "            print(\"密码设置成功\")\n",
    "        else:\n",
    "            print(\"密码输入错误，请重新设置密码\")\n",
    "            self.password()\n",
    "    def yzm(self):\n",
    "        for i in range(1,5):\n",
    "            if i == 4:\n",
    "                exit(0)\n",
    "            yzm_1=random.randrange(1000,9999)\n",
    "            print(\"请输入验证码：\",yzm_1)\n",
    "            yzm_2=int(input(\"输入\"))\n",
    "            if yzm_1==yzm_2:\n",
    "                print(\"验证通过\")\n",
    "                self.dx()\n",
    "                break\n",
    "            else:\n",
    "                pass\n",
    "fxm=email()\n",
    "fxm.zc()\n",
    "fxm.password()\n",
    "fxm.yzm()"
   ]
  },
  {
   "cell_type": "code",
   "execution_count": 2,
   "metadata": {},
   "outputs": [
    {
     "name": "stdout",
     "output_type": "stream",
     "text": [
      "请选择人机或者多人对战！\n",
      "输入33\n",
      "您选的是 33\n",
      "请从典韦、赵云、鲁班中挑选一个人物！\n",
      "输入..\n",
      "您选的是 ..\n",
      "您选择的鲁班战力为15000，防御力为3500\n",
      "您的人物以确定，现在系统随机为您生成对战玩家\n",
      "您的对手为 鲁班\n",
      "请输入开始\n",
      "输入..\n",
      "输入有误！\n",
      "正在加载，请耐心等待！\n"
     ]
    }
   ],
   "source": [
    "import numpy as np\n",
    "class Wangzhe(object):\n",
    "    def __init__(self):\n",
    "        pass\n",
    "    def renji(self):\n",
    "        print('请选择人机或者多人对战！')\n",
    "        res = input('输入')\n",
    "        print(\"您选的是\",res)\n",
    "        self.res=res\n",
    "    def tiaoxuan(self):\n",
    "        print('请从典韦、赵云、鲁班中挑选一个人物！')\n",
    "        ren = input('输入')\n",
    "        print(\"您选的是\",ren)\n",
    "        self.ren=ren\n",
    "    def xianshizhanli(self):\n",
    "        if self.ren == '典韦':\n",
    "            print(\"您选择的典韦战力为10000，防御力为5000\")\n",
    "        elif self.ren == '赵云':\n",
    "            print(\"您选择的赵云战力为20000，防御力为2000\")\n",
    "        else:\n",
    "            print(\"您选择的鲁班战力为15000，防御力为3500\")\n",
    "    def renwuqueding(self):\n",
    "        print(\"您的人物以确定，现在系统随机为您生成对战玩家\")\n",
    "        q = np.random.choice(['典韦','赵云','鲁班'])\n",
    "        print('您的对手为',q)\n",
    "    def kaishi(self):\n",
    "        print(\"请输入开始\")\n",
    "        w = input('输入')\n",
    "        if w == \"开始\":\n",
    "            print(\"输入正确\")\n",
    "        else:\n",
    "            print(\"输入有误！\")\n",
    "    def jiazai(self):\n",
    "        print('正在加载，请耐心等待！')\n",
    "    \n",
    "fxm = Wangzhe()\n",
    "fxm.renji()\n",
    "fxm.tiaoxuan()\n",
    "fxm.xianshizhanli()\n",
    "fxm.renwuqueding()\n",
    "fxm.kaishi()\n",
    "fxm.jiazai()"
   ]
  },
  {
   "cell_type": "code",
   "execution_count": 3,
   "metadata": {},
   "outputs": [
    {
     "name": "stdout",
     "output_type": "stream",
     "text": [
      "请输入宽：2\n",
      "请输入高：2\n",
      "宽是：2.00,高是：2.00\n",
      "面积是：4.0000\n",
      "周长是：8.0000\n"
     ]
    }
   ],
   "source": [
    "import math\n",
    "class Rectangle(object):\n",
    "    def __init__(self,width,height):\n",
    "        self.width=width\n",
    "        self.height=height\n",
    "        print('宽是：%.2f,高是：%.2f'% (width,height))\n",
    "    def getArea(self):\n",
    "        return self.width*self.height\n",
    "    def getPerimeter(self):\n",
    "        \n",
    "        return 2*(self.width+self.height)\n",
    "if __name__ == \"__main__\":\n",
    "    width=float(input('请输入宽：'))\n",
    "    height=float(input('请输入高：'))\n",
    "    r=Rectangle(width,height)\n",
    "    print('面积是：%.4f'% r.getArea())\n",
    "    print('周长是：%.4f'% r.getPerimeter())"
   ]
  },
  {
   "cell_type": "code",
   "execution_count": 4,
   "metadata": {},
   "outputs": [
    {
     "name": "stdout",
     "output_type": "stream",
     "text": [
      "请输入您的id：2363\n",
      "请输入本金：2366\n",
      "请输入年利率：2323\n",
      "id是2363：\n",
      "金额是2366\n",
      "月利率是1.9358：\n",
      "月利息是4580.1817：\n"
     ]
    }
   ],
   "source": [
    "class Account(object):\n",
    "    def __init__(self,id,bala,ann):\n",
    "        self.__id=id\n",
    "        self.__bala=float(bala)\n",
    "        self.__ann=float(ann)\n",
    "    def getMonthlyInterestRate(self):\n",
    "        self.f=float(self.__ann/1200)\n",
    "        print('月利率是%.4f：'% self.f)\n",
    "    def getMonthlyInterest(self):\n",
    "        s=float(self.f*self.__bala)\n",
    "        print('月利息是%.4f：'% s)      \n",
    "    def withdraw(self,quzou):\n",
    "        self.quzou=quzou\n",
    "        a=float(self.__bala*self.__ann/1200)-quzou\n",
    "        print(a)\n",
    "    def deposit(self,cunqian):\n",
    "        self.cunqian=cunqian\n",
    "        b=float(elf.__bala*self.__ann/1200)-cunqian\n",
    "        print(b)        \n",
    "if __name__ == \"__main__\":\n",
    "    id=int(input('请输入您的id：'))\n",
    "    bala=float(input('请输入本金：'))\n",
    "    ann=float(input('请输入年利率：'))\n",
    "    a=Account(id,bala,ann)\n",
    "    print('id是%d：'% a._Account__id)\n",
    "    print('金额是%d'% a._Account__bala)\n",
    "    a.getMonthlyInterestRate()\n",
    "    a.getMonthlyInterest()"
   ]
  },
  {
   "cell_type": "code",
   "execution_count": 5,
   "metadata": {},
   "outputs": [
    {
     "name": "stdout",
     "output_type": "stream",
     "text": [
      "选择速度：2\n",
      "on or off2\n",
      "半径是：2\n",
      "颜色是：\n",
      "MEDIUM\n",
      "关闭\n",
      "2.0\n",
      "\n"
     ]
    }
   ],
   "source": [
    "class Fan(object):\n",
    "    def __init__(self,speed=1,on=False,r=5,color='blue'):\n",
    "        self.SLOW=1\n",
    "        self.MEDIUM=2\n",
    "        self.FAST=3\n",
    "        self.__speed=int(speed)\n",
    "        self.__on=bool(on)\n",
    "        self.__r=float(r)\n",
    "        self.__color=str(color)       \n",
    "    def prints(self):\n",
    "        if self.__speed==1:\n",
    "            print('SLOW')\n",
    "        elif self.__speed==2:\n",
    "            print('MEDIUM')\n",
    "        elif self.__speed==3:\n",
    "            print('FAST')\n",
    "        if self.__on=='on':\n",
    "            print('打开')\n",
    "        else:\n",
    "            print('关闭')       \n",
    "        print(self.__r)\n",
    "        print(self.__color)\n",
    "if __name__ == \"__main__\":\n",
    "    speed=int(input('选择速度：'))\n",
    "    on=bool(input('on or off'))\n",
    "    r=float(input('半径是：'))\n",
    "    color=str(input('颜色是：'))\n",
    "    fan=Fan(speed,on,r,color)\n",
    "    fan.prints()"
   ]
  },
  {
   "cell_type": "code",
   "execution_count": 6,
   "metadata": {},
   "outputs": [
    {
     "name": "stdout",
     "output_type": "stream",
     "text": [
      "请输入边数：3\n",
      "请输入边长：3\n",
      "请输入x轴坐标：3\n",
      "请输入y轴坐标：3\n",
      "周长是:9.0000\n",
      "面积11.6913\n"
     ]
    }
   ],
   "source": [
    "import math\n",
    "\n",
    "class RegularPolygon(object):\n",
    "    def __init__(self,n=3,side=1,x=0,y=0):\n",
    "        self.__n=int(n)\n",
    "        self.__side=float(side)\n",
    "        self.__x=float(x)\n",
    "        self.__y=float(y)\n",
    "    def getPerimetetr(self):\n",
    "        print('周长是:%.4f'% (self.__n*self.__side )) \n",
    "    def getArea(self):\n",
    "        self.s=self.__n*(self.__side**2)/4*math.tan(math.pi/self.__n)\n",
    "        print('面积%.4f'% self.s)\n",
    "if __name__ == \"__main__\":\n",
    "    n=int(input('请输入边数：'))\n",
    "    side=float(input('请输入边长：'))\n",
    "    x=float(input('请输入x轴坐标：'))\n",
    "    y=float(input('请输入y轴坐标：'))\n",
    "    r=RegularPolygon(n,side,x,y)\n",
    "    r.getPerimetetr()\n",
    "    r.getArea()"
   ]
  },
  {
   "cell_type": "code",
   "execution_count": null,
   "metadata": {},
   "outputs": [],
   "source": []
  }
 ],
 "metadata": {
  "kernelspec": {
   "display_name": "Python 3",
   "language": "python",
   "name": "python3"
  },
  "language_info": {
   "codemirror_mode": {
    "name": "ipython",
    "version": 3
   },
   "file_extension": ".py",
   "mimetype": "text/x-python",
   "name": "python",
   "nbconvert_exporter": "python",
   "pygments_lexer": "ipython3",
   "version": "3.7.3"
  }
 },
 "nbformat": 4,
 "nbformat_minor": 2
}
